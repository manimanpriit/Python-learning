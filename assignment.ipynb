{
 "cells": [
  {
   "cell_type": "code",
   "execution_count": 1,
   "id": "1ecd9411",
   "metadata": {},
   "outputs": [
    {
     "name": "stdout",
     "output_type": "stream",
     "text": [
      "Enter Employee number in the numbers only: 45455\n",
      "Enter Name of the employee in string : gggg\n",
      "Enter employee salary in decimal : 66\n",
      "Enter full employee address: ggg\n",
      "Is employee married? (True/False): True\n",
      "Do you want to add another employee? (yes/no): yes\n",
      "Enter Employee number in the numbers only: 666\n",
      "Enter Name of the employee in string : fkkk\n",
      "Enter employee salary in decimal : 44\n",
      "Enter full employee address: kkkk\n",
      "Is employee married? (True/False): true\n",
      "Do you want to add another employee? (yes/no): no\n",
      "All The Employee Information is: \n",
      "{'Emp No': 45455, 'Emp Name': 'gggg', 'Emp Salary': 66.0, 'Emp Address': 'ggg', 'Emp Married': True}\n",
      "{'Emp No': 666, 'Emp Name': 'fkkk', 'Emp Salary': 44.0, 'Emp Address': 'kkkk', 'Emp Married': True}\n"
     ]
    }
   ],
   "source": [
    "# initialize an empty list to store employee data\n",
    "employees = []\n",
    "\n",
    "while True:\n",
    "    # to accept employee data from the keyboard\n",
    "    employee_no = int(input(\"Enter Employee number in the numbers only: \"))\n",
    "    employee_name = input(\"Enter Name of the employee in string : \")\n",
    "    employee_salary = float(input(\"Enter employee salary in decimal : \"))\n",
    "    employee_address = input(\"Enter full employee address: \")\n",
    "    employee_married = input(\"Is employee married? (True/False): \")\n",
    "    employee_married = True if employee_married.lower() == \"true\" or employee_married.lower() == \"yes\" or employee_married.lower() == \"y\" else False\n",
    "\n",
    "    # now we have create a dictionary to store the employee data\n",
    "    employee_data = {\n",
    "        \"Emp No\": employee_no, \n",
    "        \"Emp Name\": employee_name, \n",
    "        \"Emp Salary\": employee_salary, \n",
    "        \"Emp Address\": employee_address, \n",
    "        \"Emp Married\": employee_married\n",
    "    }\n",
    "\n",
    "    # add the employee data to the list using Append method\n",
    "    employees.append(employee_data)\n",
    "\n",
    "    # now we Have  to Add another user or exit the loop\n",
    "    add_another = input(\"Do you want to add another employee? (yes/no): \")\n",
    "    if add_another.lower() == \"no\" or add_another.lower() == \"n\":\n",
    "        break\n",
    "\n",
    "# display all the employee information\n",
    "print(\"All The Employee Information is: \")\n",
    "for emp in employees:\n",
    "    print(emp)\n",
    "\n",
    "\n",
    "\n"
   ]
  },
  {
   "cell_type": "code",
   "execution_count": null,
   "id": "ecc21929",
   "metadata": {},
   "outputs": [],
   "source": []
  }
 ],
 "metadata": {
  "kernelspec": {
   "display_name": "Python 3 (ipykernel)",
   "language": "python",
   "name": "python3"
  },
  "language_info": {
   "codemirror_mode": {
    "name": "ipython",
    "version": 3
   },
   "file_extension": ".py",
   "mimetype": "text/x-python",
   "name": "python",
   "nbconvert_exporter": "python",
   "pygments_lexer": "ipython3",
   "version": "3.9.16"
  }
 },
 "nbformat": 4,
 "nbformat_minor": 5
}
